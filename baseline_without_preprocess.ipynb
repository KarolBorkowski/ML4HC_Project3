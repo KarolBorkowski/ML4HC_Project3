{
 "cells": [
  {
   "cell_type": "code",
   "execution_count": 9,
   "id": "mathematical-austin",
   "metadata": {},
   "outputs": [],
   "source": [
    "from sklearn.model_selection import train_test_split\n",
    "from sklearn.linear_model import LogisticRegression\n",
    "from sklearn.feature_extraction.text import CountVectorizer,TfidfVectorizer\n",
    "import random\n",
    "import os\n",
    "from tqdm import tqdm"
   ]
  },
  {
   "cell_type": "code",
   "execution_count": 18,
   "id": "digital-remains",
   "metadata": {
    "scrolled": true
   },
   "outputs": [
    {
     "name": "stderr",
     "output_type": "stream",
     "text": [
      "100%|████████████████████████████████████████████████████████████████████| 2593169/2593169 [00:05<00:00, 491758.86it/s]\n",
      "100%|████████████████████████████████████████████████████████████████████████| 33932/33932 [00:00<00:00, 507800.06it/s]\n",
      "100%|████████████████████████████████████████████████████████████████████████| 34493/34493 [00:00<00:00, 467369.17it/s]\n"
     ]
    }
   ],
   "source": [
    "def get_data(filename): # train, dev, test\n",
    "    labels = ['background', 'objective', 'methods', 'results', 'conclusions']\n",
    "    data = []\n",
    "    with open(os.path.join('./PubMed_200k_RCT', f'{filename}.txt'), 'r') as f:\n",
    "        data = f.readlines()\n",
    "    output_labels = []  # define an empty list to store the labels\n",
    "    output_sentences = []  # define an empty list to store the sentences\n",
    "\n",
    "    for line in tqdm(data):\n",
    "        line = line.split()\n",
    "        if len(line) >= 2:\n",
    "            label = line[0].lower()\n",
    "            if label not in labels:\n",
    "                continue\n",
    "            else:\n",
    "                labelnum = labels.index(label)\n",
    "                \n",
    "                output_labels.append(labelnum)\n",
    "                output_sentences.append(' '.join(line[1:]))\n",
    "    return output_labels, output_sentences\n",
    "\n",
    "labels, corpus = get_data('train')\n",
    "labels_valid, corpus_valid = get_data('dev')\n",
    "labels_test, corpus_test = get_data('test')"
   ]
  },
  {
   "cell_type": "code",
   "execution_count": 19,
   "id": "palestinian-argument",
   "metadata": {},
   "outputs": [
    {
     "data": {
      "text/plain": [
       "['After 3 years , 87 % of 183 patients on treatment were receiving sildenafil 80 mg tid .',\n",
       " 'After a 2-week placebo baseline period , children were randomly assigned to lithium or placebo treatment for 6 weeks of placebo .',\n",
       " 'Average scores for intervention and control group residents were calculated and between-group differences on the CSD skills assessment were evaluated using two-tailed independent sample t tests .',\n",
       " 'Biochemical profiles and insulin sensitivity index from euglycemic hyperinsulinemic clamp test were assessed before and after treatment .',\n",
       " 'C31G demonstrated noninferior contraceptive efficacy compared with nonoxynol-9 .',\n",
       " 'Cytotoxic ( CD8 + ) and regulatory ( forkhead box protein 3 , FOXP3 + ) T cells were quantified using immunohistochemistry ( IHC ) .',\n",
       " 'Financial support for participation should be considered .',\n",
       " 'Grade 3/4 toxicity was significantly higher in arm B.',\n",
       " 'However , implementation of telemonitoring in primary care practices may not yield the same results as research trials with extra resources and rigid protocols .',\n",
       " 'In a previous study in a small number of healthy subjects , pharmacologic NET inhibition delayed the onset of head-up tilt-induced pre-syncope .',\n",
       " 'In a subgroup analysis for patients with low PA ( intervention : n = 7 , control : n = 5 ) , PA improved in the intervention group but not in the control group .',\n",
       " 'QoL significantly improved 24 hrs , 1 week , and 1 month after the procedure compared with each group pre-procedure ( p < 0.05 ) , but not after 3 months ( p > 0.05 ) .',\n",
       " 'Sixty two subjects ( n = 36 from Bonn , n = 26 from Bern ) with single-tooth implants ( 22 anterior and 40 posterior dental implants ) were asked to bite on narrow copper foil strips varying in thickness ( 5-200 microm ) and to decide whether or not they were able to identify a foreign body between their teeth .',\n",
       " 'The NACT+RHPPL group had very similar recurrence rates ( relative risk : 0.998 ) and death rates ( relative risk : 1.008 ) when compared to the RHPPL group .',\n",
       " 'The intervention comprised a standardised risk assessment following admission with mandatory evaluation of prevention in high-risk patients .',\n",
       " 'The main finding was that single flexibility test performed twice a week for five weeks was sufficient stimulus to increase range of motion in secondary school children .',\n",
       " 'The mandatory removal of chlorofluorocarbon-propelled nonaqueous aerosols from the market limited available treatment options .',\n",
       " 'To evaluate the efficacy and tolerability of gabapentin enacarbil ( GEn ) 1200 mg or 600 mg compared with placebo in subjects with moderate-to-severe primary restless legs syndrome ( RLS ) .',\n",
       " 'To test ( 1 ) whether children will consume low-sugar ready-to-eat ( RTE ) cereals and ( 2 ) the effects of serving high - versus low-sugar cereals on the consumption of cereal , refined sugar , fresh fruit , and milk .',\n",
       " 'Voriconazole is a broad-spectrum triazole that is active against aspergillus species .']"
      ]
     },
     "execution_count": 19,
     "metadata": {},
     "output_type": "execute_result"
    }
   ],
   "source": [
    "sorted(random.choices(list(set(corpus)), k=20))"
   ]
  },
  {
   "cell_type": "code",
   "execution_count": 20,
   "id": "little-westminster",
   "metadata": {},
   "outputs": [
    {
     "name": "stdout",
     "output_type": "stream",
     "text": [
      "['axillary', 'norovirus', '4830', '5199', '3666', 'outway', 'opened', 'cifx', 'cl', 'bisporus', 'wellcome', '186716', 'ferti', 'reforming', 'wooled', 'hpds', 'ambulators', 'polytetrafluaroethylene', '12cm', 'compas']\n",
      "(2211861, 180804)\n"
     ]
    }
   ],
   "source": [
    "vectorizer = TfidfVectorizer()\n",
    "X = vectorizer.fit_transform(corpus)\n",
    "print(random.choices(vectorizer.get_feature_names(), k=20))\n",
    "print(X.shape)\n",
    "X_test = vectorizer.transform(corpus_test)\n",
    "X_valid = vectorizer.transform(corpus_valid)"
   ]
  },
  {
   "cell_type": "code",
   "execution_count": 43,
   "id": "future-hampshire",
   "metadata": {},
   "outputs": [],
   "source": [
    "from sklearn.metrics import f1_score\n",
    "\n",
    "def evaluate(model, X, y):\n",
    "    y_pred = model.predict(X)\n",
    "    micro = f1_score(y, y_pred, average='micro')\n",
    "    macro = f1_score(y, y_pred, average='macro')\n",
    "    weighted = f1_score(y, y_pred, average='weighted')\n",
    "    # samples = f1_score(y, y_pred, average='samples')\n",
    "    print(f'F1 Score: micro {micro}, macro {macro}, weighted {weighted}')"
   ]
  },
  {
   "cell_type": "code",
   "execution_count": 23,
   "id": "ruled-gibson",
   "metadata": {},
   "outputs": [
    {
     "name": "stdout",
     "output_type": "stream",
     "text": [
      "F1 Score: micro 0.8243121802848058, macro 0.7572239244299099, weighted 0.8210974554468179\n",
      "F1 Score: micro 0.8247041670904961, macro 0.7573541905307171, weighted 0.8214023347513191\n"
     ]
    }
   ],
   "source": [
    "scikit_log_reg = LogisticRegression(solver='liblinear',random_state=0, C=5, penalty='l2',max_iter=1000)\n",
    "model=scikit_log_reg.fit(X, labels)\n",
    "\n",
    "evaluate(model, X_valid, labels_valid)\n",
    "evaluate(model, X_test, labels_test)"
   ]
  },
  {
   "cell_type": "code",
   "execution_count": 36,
   "id": "southwest-valuable",
   "metadata": {},
   "outputs": [
    {
     "data": {
      "text/plain": [
       "{0: 3.8958508101622358,\n",
       " 1: 4.106467810997797,\n",
       " 2: 1.0604564716172193,\n",
       " 3: 1.0,\n",
       " 4: 2.2556356229063272}"
      ]
     },
     "execution_count": 36,
     "metadata": {},
     "output_type": "execute_result"
    }
   ],
   "source": [
    "highest_count = max([labels.count(label) for label in set(labels)])\n",
    "class_weights = {label: highest_count / labels.count(label) for label in sorted(set(labels))}\n",
    "class_weights"
   ]
  },
  {
   "cell_type": "code",
   "execution_count": 37,
   "id": "exterior-token",
   "metadata": {},
   "outputs": [
    {
     "name": "stdout",
     "output_type": "stream",
     "text": [
      "F1 Score: micro 0.8206829807825246, macro 0.7558711820099019, weighted 0.8208605739729451\n",
      "F1 Score: micro 0.8189739938290442, macro 0.7539315578603097, weighted 0.8188876052065251\n"
     ]
    }
   ],
   "source": [
    "scikit_log_reg = LogisticRegression(solver='liblinear',random_state=0, C=5, penalty='l2',max_iter=1000, class_weight=class_weights)\n",
    "model=scikit_log_reg.fit(X, labels)\n",
    "\n",
    "evaluate(model, X_valid, labels_valid)\n",
    "evaluate(model, X_test, labels_test)"
   ]
  },
  {
   "cell_type": "code",
   "execution_count": 41,
   "id": "ordinary-elements",
   "metadata": {},
   "outputs": [
    {
     "name": "stderr",
     "output_type": "stream",
     "text": [
      "C:\\Users\\liine\\anaconda3\\envs\\ml4h\\lib\\site-packages\\sklearn\\linear_model\\_logistic.py:763: ConvergenceWarning: lbfgs failed to converge (status=1):\n",
      "STOP: TOTAL NO. of ITERATIONS REACHED LIMIT.\n",
      "\n",
      "Increase the number of iterations (max_iter) or scale the data as shown in:\n",
      "    https://scikit-learn.org/stable/modules/preprocessing.html\n",
      "Please also refer to the documentation for alternative solver options:\n",
      "    https://scikit-learn.org/stable/modules/linear_model.html#logistic-regression\n",
      "  n_iter_i = _check_optimize_result(\n"
     ]
    },
    {
     "name": "stdout",
     "output_type": "stream",
     "text": [
      "F1 Score: micro 0.8240702336513204, macro 0.7599997046810416, weighted 0.8224748299930563\n",
      "F1 Score: micro 0.823212287661479, macro 0.7566691023147788, weighted 0.8213424554175457\n"
     ]
    }
   ],
   "source": [
    "scikit_log_reg = LogisticRegression(solver='lbfgs', C=5, penalty='l2', max_iter=1000)\n",
    "model=scikit_log_reg.fit(X, labels)\n",
    "\n",
    "evaluate(model, X_valid, labels_valid)\n",
    "evaluate(model, X_test, labels_test)"
   ]
  },
  {
   "cell_type": "code",
   "execution_count": 44,
   "id": "directed-government",
   "metadata": {},
   "outputs": [
    {
     "name": "stdout",
     "output_type": "stream",
     "text": [
      "F1 Score: micro 0.7611986727498963, macro 0.663888710263248, weighted 0.7496920171576062\n",
      "F1 Score: micro 0.7649950835791544, macro 0.6715430668376375, weighted 0.754122108843251\n"
     ]
    }
   ],
   "source": [
    "from sklearn.naive_bayes import MultinomialNB\n",
    "model = MultinomialNB().fit(X, labels)\n",
    "\n",
    "evaluate(model, X_valid, labels_valid)\n",
    "evaluate(model, X_test, labels_test)"
   ]
  }
 ],
 "metadata": {
  "kernelspec": {
   "display_name": "Python 3",
   "language": "python",
   "name": "python3"
  },
  "language_info": {
   "codemirror_mode": {
    "name": "ipython",
    "version": 3
   },
   "file_extension": ".py",
   "mimetype": "text/x-python",
   "name": "python",
   "nbconvert_exporter": "python",
   "pygments_lexer": "ipython3",
   "version": "3.8.8"
  }
 },
 "nbformat": 4,
 "nbformat_minor": 5
}
