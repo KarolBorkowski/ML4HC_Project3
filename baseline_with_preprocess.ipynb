{
 "cells": [
  {
   "cell_type": "code",
   "execution_count": 1,
   "id": "billion-connection",
   "metadata": {},
   "outputs": [],
   "source": [
    "from sklearn.model_selection import train_test_split\n",
    "from sklearn.linear_model import LogisticRegression\n",
    "from sklearn.feature_extraction.text import CountVectorizer,TfidfVectorizer\n",
    "import random"
   ]
  },
  {
   "cell_type": "code",
   "execution_count": 2,
   "id": "published-fraction",
   "metadata": {},
   "outputs": [
    {
     "name": "stderr",
     "output_type": "stream",
     "text": [
      "100%|████████████████████████████████████████████████████████████████████████████████████████████████████████████████████████████| 2593169/2593169 [02:56<00:00, 14673.37it/s]\n",
      "100%|████████████████████████████████████████████████████████████████████████████████████████████████████████████████████████████████| 33932/33932 [00:02<00:00, 16805.40it/s]\n",
      "100%|████████████████████████████████████████████████████████████████████████████████████████████████████████████████████████████████| 34493/34493 [00:02<00:00, 17185.61it/s]\n"
     ]
    }
   ],
   "source": [
    "from preprocessing import get_data\n",
    "\n",
    "labels, corpus = get_data('train')\n",
    "labels_valid, corpus_valid = get_data('dev')\n",
    "labels_test, corpus_test = get_data('test')"
   ]
  },
  {
   "cell_type": "code",
   "execution_count": 3,
   "id": "sixth-entity",
   "metadata": {},
   "outputs": [
    {
     "data": {
      "text/plain": [
       "['breas',\n",
       " 'fbdg',\n",
       " 'ii/phase',\n",
       " 'interscalenus',\n",
       " 'iocm',\n",
       " 'lmvh',\n",
       " 'meantime',\n",
       " 'molly',\n",
       " 'naps',\n",
       " 'oblong',\n",
       " 'pardee',\n",
       " 'pat',\n",
       " 'pelf',\n",
       " 'pfmdri',\n",
       " 'phosphocreatine/adenosine',\n",
       " 'preferences/perceptions',\n",
       " 'reversible',\n",
       " 'wilcoxonmannwhitney',\n",
       " 'yjhd',\n",
       " 'zf']"
      ]
     },
     "execution_count": 3,
     "metadata": {},
     "output_type": "execute_result"
    }
   ],
   "source": [
    "flatten = lambda t: [item for sublist in t for item in sublist]\n",
    "sorted(random.choices(list(set(flatten(corpus))), k=20))"
   ]
  },
  {
   "cell_type": "code",
   "execution_count": 4,
   "id": "abandoned-magnet",
   "metadata": {},
   "outputs": [
    {
     "name": "stdout",
     "output_type": "stream",
     "text": [
      "['biglycans', 'estrogenization', 'facebook', 'prolase', 'extramitochondrial', 'yueyueshu', 'bullied', 'cardiopump', 'caplet', 'inconsistently', 'wugong', 'scintigraphy', 'anvisa', 'radiosynthesis', 'mullins', 'ischemic', 'emile', 'zhuhai', 'crowe', 'died']\n",
      "(2211861, 135141)\n"
     ]
    }
   ],
   "source": [
    "def to_strings(corpus: list) -> list:\n",
    "    return list(map(lambda sentence: ' '.join(sentence), corpus))\n",
    "\n",
    "vectorizer = TfidfVectorizer()\n",
    "X = vectorizer.fit_transform(to_strings(corpus))\n",
    "print(random.choices(vectorizer.get_feature_names(), k=20))\n",
    "print(X.shape)"
   ]
  },
  {
   "cell_type": "code",
   "execution_count": 5,
   "id": "broken-curtis",
   "metadata": {},
   "outputs": [
    {
     "name": "stdout",
     "output_type": "stream",
     "text": [
      "[LibLinear]"
     ]
    }
   ],
   "source": [
    "scikit_log_reg = LogisticRegression(verbose=1, solver='liblinear',random_state=0, C=5, penalty='l2',max_iter=1000)\n",
    "model=scikit_log_reg.fit(X, labels)"
   ]
  },
  {
   "cell_type": "code",
   "execution_count": 6,
   "id": "developed-monaco",
   "metadata": {},
   "outputs": [],
   "source": [
    "from sklearn.metrics import f1_score\n",
    "\n",
    "def evaluate(X, y):\n",
    "    y_pred = model.predict(X)\n",
    "    micro = f1_score(y, y_pred, average='micro')\n",
    "    macro = f1_score(y, y_pred, average='macro')\n",
    "    weighted = f1_score(y, y_pred, average='weighted')\n",
    "    # samples = f1_score(y, y_pred, average='samples')\n",
    "    print(f'F1 Score: micro {micro}, macro {macro}, weighted {weighted}')"
   ]
  },
  {
   "cell_type": "code",
   "execution_count": 7,
   "id": "sensitive-mattress",
   "metadata": {},
   "outputs": [
    {
     "name": "stdout",
     "output_type": "stream",
     "text": [
      "F1 Score: micro 0.7963846260196322, macro 0.7217727643915564, weighted 0.7918544950542978\n",
      "F1 Score: micro 0.7978842437188486, macro 0.723853019785438, weighted 0.7932956511373992\n"
     ]
    }
   ],
   "source": [
    "X_test = vectorizer.transform(to_strings(corpus_test))\n",
    "X_valid = vectorizer.transform(to_strings(corpus_valid))\n",
    "\n",
    "evaluate(X_valid, labels_valid)\n",
    "evaluate(X_test, labels_test)"
   ]
  }
 ],
 "metadata": {
  "kernelspec": {
   "display_name": "Python 3",
   "language": "python",
   "name": "python3"
  },
  "language_info": {
   "codemirror_mode": {
    "name": "ipython",
    "version": 3
   },
   "file_extension": ".py",
   "mimetype": "text/x-python",
   "name": "python",
   "nbconvert_exporter": "python",
   "pygments_lexer": "ipython3",
   "version": "3.8.8"
  }
 },
 "nbformat": 4,
 "nbformat_minor": 5
}
